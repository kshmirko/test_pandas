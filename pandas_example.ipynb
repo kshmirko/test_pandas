{
 "cells": [
  {
   "cell_type": "code",
   "execution_count": 1,
   "id": "2c9075d4-aa36-4cc1-979f-2039ccea8aac",
   "metadata": {},
   "outputs": [],
   "source": [
    "# Подгружаем необходимые пакеты\n",
    "import pandas as pd\n",
    "import numpy as np\n",
    "import matplotlib.pyplot as plt\n",
    "import seaborn as sns"
   ]
  },
  {
   "cell_type": "code",
   "execution_count": 2,
   "id": "1bb8be8c-f74f-43c1-be1b-1096046b4395",
   "metadata": {},
   "outputs": [],
   "source": [
    "# Эта команда говорит python, чтобы рисунки matplotlib встраивались в документ\n",
    "%matplotlib inline"
   ]
  },
  {
   "cell_type": "code",
   "execution_count": 3,
   "id": "8402182b-8c45-40ed-9c30-c91f0e81262a",
   "metadata": {},
   "outputs": [],
   "source": [
    "# устанавливаем тему seaborn\n",
    "sns.set_theme()"
   ]
  },
  {
   "cell_type": "code",
   "execution_count": 4,
   "id": "89c93bda-8daa-455e-8f1a-0efcdcba3590",
   "metadata": {},
   "outputs": [
    {
     "data": {
      "text/plain": [
       "[<matplotlib.lines.Line2D at 0x118177370>]"
      ]
     },
     "execution_count": 4,
     "metadata": {},
     "output_type": "execute_result"
    },
    {
     "data": {
      "image/png": "[encoded data removed]",
      "text/plain": [
       "<Figure size 640x480 with 1 Axes>"
      ]
     },
     "metadata": {},
     "output_type": "display_data"
    }
   ],
   "source": [
    "# демонстрация рисунка\n",
    "plt.plot([1,3,4])"
   ]
  },
  {
   "cell_type": "markdown",
   "id": "6c507f2d-1fa3-4436-8fc1-f9970826292f",
   "metadata": {},
   "source": [
    "## Загружаем данные из таблицы\n",
    "Здесь мы загружаем листы из книги MS Excel"
   ]
  },
  {
   "cell_type": "code",
   "execution_count": 5,
   "id": "edc56409-abe7-4cd1-9325-58e2294a2cbd",
   "metadata": {},
   "outputs": [],
   "source": [
    "# одновременно загружаем первые три листа электронной книги MS Excel \n",
    "sheets = pd.read_excel('3.xlsx', sheet_name=[0,1,2])"
   ]
  },
  {
   "cell_type": "markdown",
   "id": "2df33b42-1ab9-4383-ac41-ba5a3298f2ef",
   "metadata": {},
   "source": [
    "И сразу же отображаем содержимое"
   ]
  },
  {
   "cell_type": "code",
   "execution_count": 6,
   "id": "5919d6d7-2795-4021-8bb7-11817af203c9",
   "metadata": {},
   "outputs": [
    {
     "data": {
      "text/html": [
       "<div>\n",
       "<style scoped>\n",
       "    .dataframe tbody tr th:only-of-type {\n",
       "        vertical-align: middle;\n",
       "    }\n",
       "\n",
       "    .dataframe tbody tr th {\n",
       "        vertical-align: top;\n",
       "    }\n",
       "\n",
       "    .dataframe thead th {\n",
       "        text-align: right;\n",
       "    }\n",
       "</style>\n",
       "<table border=\"1\" class=\"dataframe\">\n",
       "  <thead>\n",
       "    <tr style=\"text-align: right;\">\n",
       "      <th></th>\n",
       "      <th>ID операции</th>\n",
       "      <th>Дата</th>\n",
       "      <th>ID магазина</th>\n",
       "      <th>Артикул</th>\n",
       "      <th>Количество упаковок, шт.</th>\n",
       "      <th>Тип операции</th>\n",
       "      <th>Цена руб./шт.</th>\n",
       "    </tr>\n",
       "  </thead>\n",
       "  <tbody>\n",
       "    <tr>\n",
       "      <th>0</th>\n",
       "      <td>1</td>\n",
       "      <td>2021-06-01</td>\n",
       "      <td>M1</td>\n",
       "      <td>4</td>\n",
       "      <td>180</td>\n",
       "      <td>Поступление</td>\n",
       "      <td>75</td>\n",
       "    </tr>\n",
       "    <tr>\n",
       "      <th>1</th>\n",
       "      <td>2</td>\n",
       "      <td>2021-06-01</td>\n",
       "      <td>M1</td>\n",
       "      <td>4</td>\n",
       "      <td>180</td>\n",
       "      <td>Продажа</td>\n",
       "      <td>75</td>\n",
       "    </tr>\n",
       "    <tr>\n",
       "      <th>2</th>\n",
       "      <td>3</td>\n",
       "      <td>2021-06-01</td>\n",
       "      <td>M1</td>\n",
       "      <td>5</td>\n",
       "      <td>180</td>\n",
       "      <td>Поступление</td>\n",
       "      <td>70</td>\n",
       "    </tr>\n",
       "    <tr>\n",
       "      <th>3</th>\n",
       "      <td>4</td>\n",
       "      <td>2021-06-01</td>\n",
       "      <td>M1</td>\n",
       "      <td>5</td>\n",
       "      <td>170</td>\n",
       "      <td>Продажа</td>\n",
       "      <td>70</td>\n",
       "    </tr>\n",
       "    <tr>\n",
       "      <th>4</th>\n",
       "      <td>5</td>\n",
       "      <td>2021-06-01</td>\n",
       "      <td>M1</td>\n",
       "      <td>6</td>\n",
       "      <td>180</td>\n",
       "      <td>Поступление</td>\n",
       "      <td>50</td>\n",
       "    </tr>\n",
       "  </tbody>\n",
       "</table>\n",
       "</div>"
      ],
      "text/plain": [
       "   ID операции       Дата ID магазина  Артикул  Количество упаковок, шт.  \\\n",
       "0            1 2021-06-01          M1        4                       180   \n",
       "1            2 2021-06-01          M1        4                       180   \n",
       "2            3 2021-06-01          M1        5                       180   \n",
       "3            4 2021-06-01          M1        5                       170   \n",
       "4            5 2021-06-01          M1        6                       180   \n",
       "\n",
       "  Тип операции  Цена руб./шт.  \n",
       "0  Поступление             75  \n",
       "1      Продажа             75  \n",
       "2  Поступление             70  \n",
       "3      Продажа             70  \n",
       "4  Поступление             50  "
      ]
     },
     "execution_count": 6,
     "metadata": {},
     "output_type": "execute_result"
    }
   ],
   "source": [
    "sheets[0].head()"
   ]
  },
  {
   "cell_type": "code",
   "execution_count": 7,
   "id": "b9a87c5b-7c90-4237-b4f4-8b3d1b9674d3",
   "metadata": {},
   "outputs": [
    {
     "data": {
      "text/html": [
       "<div>\n",
       "<style scoped>\n",
       "    .dataframe tbody tr th:only-of-type {\n",
       "        vertical-align: middle;\n",
       "    }\n",
       "\n",
       "    .dataframe tbody tr th {\n",
       "        vertical-align: top;\n",
       "    }\n",
       "\n",
       "    .dataframe thead th {\n",
       "        text-align: right;\n",
       "    }\n",
       "</style>\n",
       "<table border=\"1\" class=\"dataframe\">\n",
       "  <thead>\n",
       "    <tr style=\"text-align: right;\">\n",
       "      <th></th>\n",
       "      <th>Артикул</th>\n",
       "      <th>Отдел</th>\n",
       "      <th>Наименование товара</th>\n",
       "      <th>Ед. изм</th>\n",
       "      <th>Количество в упаковке</th>\n",
       "      <th>Поставщик</th>\n",
       "    </tr>\n",
       "  </thead>\n",
       "  <tbody>\n",
       "    <tr>\n",
       "      <th>0</th>\n",
       "      <td>1</td>\n",
       "      <td>Молоко</td>\n",
       "      <td>Молоко ультрапастеризованное</td>\n",
       "      <td>литр</td>\n",
       "      <td>1.0</td>\n",
       "      <td>Молокозавод №1</td>\n",
       "    </tr>\n",
       "    <tr>\n",
       "      <th>1</th>\n",
       "      <td>2</td>\n",
       "      <td>Молоко</td>\n",
       "      <td>Молоко безлактозное</td>\n",
       "      <td>литр</td>\n",
       "      <td>0.5</td>\n",
       "      <td>Экопродукты</td>\n",
       "    </tr>\n",
       "    <tr>\n",
       "      <th>2</th>\n",
       "      <td>3</td>\n",
       "      <td>Молоко</td>\n",
       "      <td>Молоко детское с 8 месяцев</td>\n",
       "      <td>литр</td>\n",
       "      <td>0.2</td>\n",
       "      <td>Молокозавод №1</td>\n",
       "    </tr>\n",
       "    <tr>\n",
       "      <th>3</th>\n",
       "      <td>4</td>\n",
       "      <td>Молоко</td>\n",
       "      <td>Кефир 3,2%</td>\n",
       "      <td>литр</td>\n",
       "      <td>1.0</td>\n",
       "      <td>Молокозавод №2</td>\n",
       "    </tr>\n",
       "    <tr>\n",
       "      <th>4</th>\n",
       "      <td>5</td>\n",
       "      <td>Молоко</td>\n",
       "      <td>Кефир обезжиренный</td>\n",
       "      <td>литр</td>\n",
       "      <td>1.0</td>\n",
       "      <td>Молокозавод №2</td>\n",
       "    </tr>\n",
       "  </tbody>\n",
       "</table>\n",
       "</div>"
      ],
      "text/plain": [
       "   Артикул   Отдел           Наименование товара Ед. изм  \\\n",
       "0        1  Молоко  Молоко ультрапастеризованное    литр   \n",
       "1        2  Молоко           Молоко безлактозное    литр   \n",
       "2        3  Молоко    Молоко детское с 8 месяцев    литр   \n",
       "3        4  Молоко                    Кефир 3,2%    литр   \n",
       "4        5  Молоко            Кефир обезжиренный    литр   \n",
       "\n",
       "   Количество в упаковке       Поставщик  \n",
       "0                    1.0  Молокозавод №1  \n",
       "1                    0.5     Экопродукты  \n",
       "2                    0.2  Молокозавод №1  \n",
       "3                    1.0  Молокозавод №2  \n",
       "4                    1.0  Молокозавод №2  "
      ]
     },
     "execution_count": 7,
     "metadata": {},
     "output_type": "execute_result"
    }
   ],
   "source": [
    "sheets[1].head()"
   ]
  },
  {
   "cell_type": "code",
   "execution_count": 8,
   "id": "37cf9be8-bcde-41c1-a006-74dc1bb3e4ea",
   "metadata": {},
   "outputs": [
    {
     "data": {
      "text/html": [
       "<div>\n",
       "<style scoped>\n",
       "    .dataframe tbody tr th:only-of-type {\n",
       "        vertical-align: middle;\n",
       "    }\n",
       "\n",
       "    .dataframe tbody tr th {\n",
       "        vertical-align: top;\n",
       "    }\n",
       "\n",
       "    .dataframe thead th {\n",
       "        text-align: right;\n",
       "    }\n",
       "</style>\n",
       "<table border=\"1\" class=\"dataframe\">\n",
       "  <thead>\n",
       "    <tr style=\"text-align: right;\">\n",
       "      <th></th>\n",
       "      <th>ID магазина</th>\n",
       "      <th>Район</th>\n",
       "      <th>Адрес</th>\n",
       "    </tr>\n",
       "  </thead>\n",
       "  <tbody>\n",
       "    <tr>\n",
       "      <th>0</th>\n",
       "      <td>M1</td>\n",
       "      <td>Октябрьский</td>\n",
       "      <td>просп. Мира, 45</td>\n",
       "    </tr>\n",
       "    <tr>\n",
       "      <th>1</th>\n",
       "      <td>M2</td>\n",
       "      <td>Первомайский</td>\n",
       "      <td>ул. Металлургов, 12</td>\n",
       "    </tr>\n",
       "    <tr>\n",
       "      <th>2</th>\n",
       "      <td>M3</td>\n",
       "      <td>Заречный</td>\n",
       "      <td>Колхозная, 11</td>\n",
       "    </tr>\n",
       "    <tr>\n",
       "      <th>3</th>\n",
       "      <td>M4</td>\n",
       "      <td>Первомайский</td>\n",
       "      <td>Заводская, 22</td>\n",
       "    </tr>\n",
       "    <tr>\n",
       "      <th>4</th>\n",
       "      <td>M5</td>\n",
       "      <td>Октябрьский</td>\n",
       "      <td>ул. Гагарина, 17</td>\n",
       "    </tr>\n",
       "  </tbody>\n",
       "</table>\n",
       "</div>"
      ],
      "text/plain": [
       "  ID магазина         Район                Адрес\n",
       "0          M1   Октябрьский      просп. Мира, 45\n",
       "1          M2  Первомайский  ул. Металлургов, 12\n",
       "2          M3      Заречный        Колхозная, 11\n",
       "3          M4  Первомайский        Заводская, 22\n",
       "4          M5   Октябрьский     ул. Гагарина, 17"
      ]
     },
     "execution_count": 8,
     "metadata": {},
     "output_type": "execute_result"
    }
   ],
   "source": [
    "sheets[2].head()"
   ]
  },
  {
   "cell_type": "code",
   "execution_count": 9,
   "id": "b366a295-c580-42fe-a8fa-c8c82a0f4c05",
   "metadata": {},
   "outputs": [
    {
     "name": "stdout",
     "output_type": "stream",
     "text": [
      "1420\n",
      "454\n"
     ]
    }
   ],
   "source": [
    "#выделяем те идентификаторы магазинов, что назодятся в Заречном районе\n",
    "shop_ids = sheets[2].loc[ sheets[2]['Район'] == \"Заречный\" ]['ID магазина']\n",
    "\n",
    "#выделяем все артикулы яиц диетических\n",
    "product_ids = sheets[1].loc[ sheets[1]['Наименование товара'] == \"Яйцо диетическое\" ]['Артикул']\n",
    "\n",
    "# в таблице движение товара ищем те строки, где ID Магазина один из shop_ids, а артикул один из product_ids\n",
    "tovar = sheets[0].loc[ \n",
    "    sheets[0]['ID магазина'].isin(shop_ids) \n",
    "    & \n",
    "    sheets[0]['Артикул'].isin(product_ids) ][['Количество упаковок, шт.','Тип операции']]\n",
    "\n",
    "# вычисляем остаток яиц диетических в конце выбранного периода\n",
    "ostlos = tovar.loc[ tovar['Тип операции'] == 'Поступление' ]['Количество упаковок, шт.'].sum() - tovar.loc[ tovar['Тип операции'] == 'Продажа' ]['Количество упаковок, шт.'].sum()\n",
    "\n",
    "print(tovar.loc[ tovar['Тип операции'] == 'Поступление' ]['Количество упаковок, шт.'].sum())\n",
    "print(tovar.loc[ tovar['Тип операции'] == 'Продажа' ]['Количество упаковок, шт.'].sum())"
   ]
  }
 ],
 "metadata": {
  "kernelspec": {
   "display_name": "Python 3 (ipykernel)",
   "language": "python",
   "name": "python3"
  },
  "language_info": {
   "codemirror_mode": {
    "name": "ipython",
    "version": 3
   },
   "file_extension": ".py",
   "mimetype": "text/x-python",
   "name": "python",
   "nbconvert_exporter": "python",
   "pygments_lexer": "ipython3",
   "version": "3.9.13"
  }
 },
 "nbformat": 4,
 "nbformat_minor": 5
}
